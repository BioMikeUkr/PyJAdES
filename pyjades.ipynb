{
  "nbformat": 4,
  "nbformat_minor": 0,
  "metadata": {
    "colab": {
      "provenance": []
    },
    "kernelspec": {
      "name": "python3",
      "display_name": "Python 3"
    },
    "language_info": {
      "name": "python"
    }
  },
  "cells": [
    {
      "cell_type": "code",
      "execution_count": 7,
      "metadata": {
        "colab": {
          "base_uri": "https://localhost:8080/"
        },
        "id": "AZhn7C98RadM",
        "outputId": "5d0a0224-2be0-479b-a198-b87240b543b8"
      },
      "outputs": [
        {
          "output_type": "stream",
          "name": "stdout",
          "text": [
            "Collecting git+https://github.com/BioMikeUkr/PyJAdES.git\n",
            "  Cloning https://github.com/BioMikeUkr/PyJAdES.git to /tmp/pip-req-build-epsukiu2\n",
            "  Running command git clone --filter=blob:none --quiet https://github.com/BioMikeUkr/PyJAdES.git /tmp/pip-req-build-epsukiu2\n",
            "  Resolved https://github.com/BioMikeUkr/PyJAdES.git to commit f5ea6bae0c83e75591752e931449004e5f216d43\n",
            "  Installing build dependencies ... \u001b[?25l\u001b[?25hdone\n",
            "  Getting requirements to build wheel ... \u001b[?25l\u001b[?25hdone\n",
            "  Preparing metadata (pyproject.toml) ... \u001b[?25l\u001b[?25hdone\n",
            "Requirement already satisfied: cryptography>=41.0.1 in /usr/local/lib/python3.10/dist-packages (from pyjades==0.1.0) (43.0.3)\n",
            "Requirement already satisfied: requests>=2.31.0 in /usr/local/lib/python3.10/dist-packages (from pyjades==0.1.0) (2.32.3)\n",
            "Requirement already satisfied: cffi>=1.12 in /usr/local/lib/python3.10/dist-packages (from cryptography>=41.0.1->pyjades==0.1.0) (1.17.1)\n",
            "Requirement already satisfied: charset-normalizer<4,>=2 in /usr/local/lib/python3.10/dist-packages (from requests>=2.31.0->pyjades==0.1.0) (3.4.0)\n",
            "Requirement already satisfied: idna<4,>=2.5 in /usr/local/lib/python3.10/dist-packages (from requests>=2.31.0->pyjades==0.1.0) (3.10)\n",
            "Requirement already satisfied: urllib3<3,>=1.21.1 in /usr/local/lib/python3.10/dist-packages (from requests>=2.31.0->pyjades==0.1.0) (2.2.3)\n",
            "Requirement already satisfied: certifi>=2017.4.17 in /usr/local/lib/python3.10/dist-packages (from requests>=2.31.0->pyjades==0.1.0) (2024.8.30)\n",
            "Requirement already satisfied: pycparser in /usr/local/lib/python3.10/dist-packages (from cffi>=1.12->cryptography>=41.0.1->pyjades==0.1.0) (2.22)\n"
          ]
        }
      ],
      "source": [
        "!pip install git+https://github.com/BioMikeUkr/PyJAdES.git\n"
      ]
    },
    {
      "cell_type": "code",
      "source": [
        "# Install OpenSSL (for Ubuntu/Debian systems)\n",
        "#!apt install openssl\n",
        "\n",
        "# Step 1: Create a directory to store certificates and keys\n",
        "!mkdir certificates\n",
        "\n",
        "# Step 2: Generate a private key for the Root CA (Root Certificate Authority)\n",
        "!openssl genpkey -algorithm RSA -out certificates/rootCA_key.pem\n",
        "\n",
        "# Step 3: Generate a self-signed Root CA certificate, valid for 1024 days\n",
        "!openssl req -x509 -new -nodes -key certificates/rootCA_key.pem -sha256 -days 1024 -out certificates/rootCA_cert.pem \\\n",
        "  -subj \"/C=LT/ST=Vilnius/L=Vilnius/O=MyRootCA/OU=RootCA/CN=My Root CA/emailAddress=rootca@example.com\"\n",
        "\n",
        "# Step 4: Generate a private key for the intermediate certificate\n",
        "!openssl genpkey -algorithm RSA -out certificates/intermediateCA_key.pem\n",
        "\n",
        "# Step 5: Create a Certificate Signing Request (CSR) for the intermediate certificate\n",
        "!openssl req -new -key certificates/intermediateCA_key.pem -out certificates/intermediateCA.csr \\\n",
        "  -subj \"/C=LT/ST=Vilnius/L=Vilnius/O=MyIntermediateCA/OU=IntermediateCA/CN=Intermediate CA/emailAddress=intermediateca@example.com\"\n",
        "\n",
        "# Step 6: Sign the intermediate certificate using the Root CA certificate (valid for 700 days)\n",
        "!openssl x509 -req -in certificates/intermediateCA.csr -CA certificates/rootCA_cert.pem -CAkey certificates/rootCA_key.pem \\\n",
        "  -CAcreateserial -out certificates/intermediateCA_cert.pem -days 700 -sha256\n",
        "\n",
        "# Step 7: Generate a private key for the user certificate\n",
        "!openssl genpkey -algorithm RSA -out certificates/new_cert_key.pem\n",
        "\n",
        "# Step 8: Create a Certificate Signing Request (CSR) for the user certificate\n",
        "!openssl req -new -key certificates/new_cert_key.pem -out certificates/new_cert.csr \\\n",
        "  -subj \"/C=LT/ST=Vilnius/L=Vilnius/O=BioMike/OU=BioMike/CN=Mykhailo Shtopko/emailAddress=emailAddress@gmail.com\"\n",
        "\n",
        "# Step 9: Sign the user certificate using the intermediate certificate (valid for 500 days)\n",
        "!openssl x509 -req -in certificates/new_cert.csr -CA certificates/intermediateCA_cert.pem -CAkey certificates/intermediateCA_key.pem \\\n",
        "  -CAcreateserial -out certificates/new_cert_signed.pem -days 500 -sha256\n",
        "\n",
        "# Step 10: Verify the signed user certificate using the Root CA and intermediate certificate\n",
        "!openssl verify -CAfile certificates/rootCA_cert.pem -untrusted certificates/intermediateCA_cert.pem certificates/new_cert_signed.pem\n"
      ],
      "metadata": {
        "colab": {
          "base_uri": "https://localhost:8080/"
        },
        "id": "JuxyO7WJSmne",
        "outputId": "92f240a2-83de-4e00-c9c8-d3c834a98873"
      },
      "execution_count": 9,
      "outputs": [
        {
          "output_type": "stream",
          "name": "stdout",
          "text": [
            "mkdir: cannot create directory ‘certificates’: File exists\n",
            ".+++++++++++++++++++++++++++++++++++++++++++++++++++++++++++++++++*.............+.....+...+.......+...........+.+.........+..+.......+..+.........+++++++++++++++++++++++++++++++++++++++++++++++++++++++++++++++++*..+.+..+.+............+..............+.........+.+......+.....+..........+.....+.......+.....+...+++++++++++++++++++++++++++++++++++++++++++++++++++++++++++++++++\n",
            ".+.....+.........+....+..+.+..+...+.......+..+.........+++++++++++++++++++++++++++++++++++++++++++++++++++++++++++++++++*...+.....+++++++++++++++++++++++++++++++++++++++++++++++++++++++++++++++++*.....+......+......+...+..+.........+...............+....+...+.....+...+....+......+..+...+.......+...+.........+.....+..........+...+...+..+....+.......................+......+.+...+.....+...+.......+..+....+..+.........+.+.....+....+.........+.....+...............+....+......+...........+.+..+......+....+..+.+++++++++++++++++++++++++++++++++++++++++++++++++++++++++++++++++\n",
            ".+...+......+......+..............+....+..+.......+++++++++++++++++++++++++++++++++++++++++++++++++++++++++++++++++*..+....+........+...+....+++++++++++++++++++++++++++++++++++++++++++++++++++++++++++++++++*......+...+............+............+......+..+...+....+......+..+......+......+....+..+....+...+..+......+...+....+........+...+....+...+...+.........+..+....+......+...+........+....+........+++++++++++++++++++++++++++++++++++++++++++++++++++++++++++++++++\n",
            ".......+...+++++++++++++++++++++++++++++++++++++++++++++++++++++++++++++++++*.......+...+...+..........+..+.........+.+..+...+....+...+..+++++++++++++++++++++++++++++++++++++++++++++++++++++++++++++++++*...+......+.........+......+.+.........+..+...+....+..........................+++++++++++++++++++++++++++++++++++++++++++++++++++++++++++++++++\n",
            "Certificate request self-signature ok\n",
            "subject=C = LT, ST = Vilnius, L = Vilnius, O = MyIntermediateCA, OU = IntermediateCA, CN = Intermediate CA, emailAddress = intermediateca@example.com\n",
            ".......+...+.+......+.....+......+.........+.+...+++++++++++++++++++++++++++++++++++++++++++++++++++++++++++++++++*.+..+..........+...+......+......+...+......+..+....+.........+...........+...+.+.....+....+..+.+........+..........+............+..+..........+..+...+......+.+...........+...+.......+........+.+......+..+...+.......+.....+++++++++++++++++++++++++++++++++++++++++++++++++++++++++++++++++*.....+..................+............+..+......+.+.....+.+.........+......+............+.....+......+.+.....+....+.....+......+.....................+....+...+.....+......+.+.....+..........+.........+.........+.....+......+......+.+........+..........+...........+......+...+.+...........+....+......+.........+........+...+...+.......+........+.......+...............+.........+........+..........+...+..............+.+..+.+.....+.+........+.+..+..........+............+......+..+.......+...+.....+.........+..........+...+......+.....+.+...+..+..........+.....+.+...+..+.........+.+.....+...+......+....+.....+....+...+..............+......+.......+...+.....+....+...+................................+......+..........+...+.........+..+.+++++++++++++++++++++++++++++++++++++++++++++++++++++++++++++++++\n",
            "....+...+.....+..........+...........+....+....................+......+.+...+.....+.......+.....+....+.....+.........+....+..+....+..+..........+..+.+..+.......+.....+...+...+++++++++++++++++++++++++++++++++++++++++++++++++++++++++++++++++*..+.+..+.........+......+++++++++++++++++++++++++++++++++++++++++++++++++++++++++++++++++*...+.+.....+......+...+...+...+....+..+..................+...............+................+..+...+.+...+...+...+......+...........+...+................+.....+.+...+..+..........+...+......+.........+..+...+............+....+...+...+..............+.+.....+............+.......+.....+.+........+......+.+.........+...+.....+.+............+...+.....+.........+.+......+.....+.+...+......+........+...+....+...+........+.......+..+.............+.....+...+.......+.....+...+.............+...........+......+..........+..+......+....+.................+...+.+......+...........+............+......+......+...+.+......+.....+......+...+.........................+..+...+....+..+...+.+..+....+...+......+.....+.+......+.....+...+......+.+...+.....+......+.+...+.....+.......+..+..........+...+............+.....................+......+...+...+.....+++++++++++++++++++++++++++++++++++++++++++++++++++++++++++++++++\n",
            "Certificate request self-signature ok\n",
            "subject=C = LT, ST = Vilnius, L = Vilnius, O = BioMike, OU = BioMike, CN = Mykhailo Shtopko, emailAddress = emailAddress@gmail.com\n",
            "C = LT, ST = Vilnius, L = Vilnius, O = MyIntermediateCA, OU = IntermediateCA, CN = Intermediate CA, emailAddress = intermediateca@example.com\n",
            "error 79 at 1 depth lookup: invalid CA certificate\n",
            "error certificates/new_cert_signed.pem: verification failed\n"
          ]
        }
      ]
    },
    {
      "cell_type": "code",
      "source": [
        "from pyjades import JAdESSigner, JAdESValidator\n",
        "\n",
        "payload_to_sign = \"Important data\"\n",
        "additional_signed_headers = {\n",
        "    \"sigPl\": {\n",
        "        \"addressCountry\": \"LT\",\n",
        "        \"addressLocality\": \"Vilnius\",\n",
        "        \"addressRegion\": \"Vilnius\",\n",
        "        \"postOfficeBoxNumber\": \"24\",\n",
        "        \"postalCode\": \"LT-03225\",\n",
        "        \"streetAddress\": \"Naugarduko g. 24\"\n",
        "    }\n",
        "}\n",
        "\n",
        "additional_etsiU = None\n",
        "signer = JAdESSigner(\n",
        "    key_file=\"certificates/new_cert_key.pem\",\n",
        "    cert_file=\"certificates/new_cert_signed.pem\",\n",
        "    intermediate_cert_file=\"certificates/intermediateCA_cert.pem\"\n",
        ")\n",
        "\n",
        "\n",
        "signer.sign(payload_to_sign, additional_signed_headers, additional_etsiU, output_file=\"signed_dock.json\")\n",
        "\n",
        "# JAdESValidator\n",
        "validator = JAdESValidator('signed_dock.json')\n",
        "validator.validate(output_file=\"validation_result.json\")"
      ],
      "metadata": {
        "colab": {
          "base_uri": "https://localhost:8080/"
        },
        "id": "oibO7vgZUC6U",
        "outputId": "311594ee-05e9-4198-8516-43ef034261b7"
      },
      "execution_count": 11,
      "outputs": [
        {
          "output_type": "stream",
          "name": "stdout",
          "text": [
            "Signature saved in 'signed_dock.json'\n",
            "Certificate .cache_dir/tsa.crt already exists in cache.\n",
            "Certificate .cache_dir/cacert.pem already exists in cache.\n",
            "Validation result saved in validation_result.json\n"
          ]
        }
      ]
    },
    {
      "cell_type": "code",
      "source": [],
      "metadata": {
        "id": "vknPU4tTUQ7y"
      },
      "execution_count": null,
      "outputs": []
    }
  ]
}